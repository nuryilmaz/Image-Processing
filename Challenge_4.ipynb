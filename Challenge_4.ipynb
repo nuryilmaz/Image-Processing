{
 "cells": [
  {
   "cell_type": "code",
   "execution_count": null,
   "metadata": {},
   "outputs": [],
   "source": [
    "import keras\n",
    "from keras.models import Sequential\n",
    "from keras.layers import Dense, Dropout, Activation, Flatten\n",
    "from keras.layers import Conv2D, MaxPooling2D\n",
    "from keras import backend as K\n",
    "from keras.callbacks import EarlyStopping\n",
    "from keras.preprocessing.image import ImageDataGenerator\n",
    "from sklearn.model_selection import train_test_split\n",
    "from sklearn.preprocessing import LabelEncoder\n",
    "from PIL import Image\n",
    "import numpy as np\n",
    "import os"
   ]
  },
  {
   "cell_type": "code",
   "execution_count": null,
   "metadata": {},
   "outputs": [],
   "source": [
    "#getting pixel values of the images to create X array \n",
    "#y is the list of class names as folder names\n",
    "\n",
    "image_dir = os.getcwd() + '\\\\gear_images_resized\\\\'\n",
    "X = []\n",
    "y = []\n",
    "for image_path in os.listdir(os.fsencode(image_dir)):\n",
    "    for image in os.listdir(os.fsencode(image_dir + str(image_path).replace(\"b'\", '').replace(\"'\", ''))):\n",
    "        img_dir = os.fsencode(image_dir + str(image_path).replace(\"b'\", '').replace(\"'\", '') + '\\\\' + str(image).replace(\"b'\", '').replace(\"'\", ''))\n",
    "        img = Image.open(img_dir)\n",
    "        if img.size == (128,128):\n",
    "            I = np.array(img.getdata(),\n",
    "                        np.uint8).reshape(49152 , 1)\n",
    "\n",
    "            X.append(I.reshape(1 , 49152))\n",
    "            y.append(str(image_path).replace(\"b'\", '').replace(\"'\", ''))\n",
    "        \n",
    "        else:\n",
    "            break"
   ]
  },
  {
   "cell_type": "code",
   "execution_count": null,
   "metadata": {},
   "outputs": [],
   "source": [
    " X = np.array(X).reshape(np.array(X).shape[0], 3, 128, 128) # 3 comes from RGB"
   ]
  },
  {
   "cell_type": "code",
   "execution_count": null,
   "metadata": {},
   "outputs": [],
   "source": [
    "#normalization of data\n",
    "\n",
    "X = X/255"
   ]
  },
  {
   "cell_type": "code",
   "execution_count": null,
   "metadata": {},
   "outputs": [],
   "source": [
    "#categorical classes turned into encoded values\n",
    "\n",
    "lb = LabelEncoder()\n",
    "\n",
    "y = lb.fit_transform(y)\n",
    "y = keras.utils.to_categorical(y,6) "
   ]
  },
  {
   "cell_type": "code",
   "execution_count": null,
   "metadata": {},
   "outputs": [],
   "source": [
    "#split data to train and test\n",
    "\n",
    "X_train, X_test, y_train, y_test = train_test_split(X, y, test_size=0.20, random_state=42)"
   ]
  },
  {
   "cell_type": "code",
   "execution_count": null,
   "metadata": {},
   "outputs": [],
   "source": [
    "#create a sequential artificial deep network model\n",
    "\n",
    "model = Sequential()"
   ]
  },
  {
   "cell_type": "code",
   "execution_count": null,
   "metadata": {},
   "outputs": [],
   "source": [
    "# 64 is the number of output filters in the convolution\n",
    "# (3,3) is the height and width of 2D convolution window\n",
    "# relu activation function for nonlinearity\n",
    "\n",
    "model.add(Conv2D(64, (3, 3), padding='same',\n",
    "                 input_shape=X_train.shape[1:]))\n",
    "model.add(Activation('relu'))\n",
    "## randomly close 0.30 of neurons to prevent overfitting during training\n",
    "model.add(Dropout(0.3))\n",
    "# add layer with 3x3 filters to model\n",
    "model.add(MaxPooling2D(pool_size=(3, 3), dim_ordering=\"th\"))\n",
    "model.add(Dropout(0.10))"
   ]
  },
  {
   "cell_type": "code",
   "execution_count": null,
   "metadata": {},
   "outputs": [],
   "source": [
    "model.add(Conv2D(32, (3, 3), data_format='channels_first'))\n",
    "# add relu activation function\n",
    "model.add(Activation('relu'))\n",
    "model.add(Dropout(0.3))\n",
    "# add 2x2 MaxPooling layer \n",
    "model.add(MaxPooling2D(pool_size=(2, 2)))\n",
    "# randomly close 0.10 of neurons to prevent overfitting during training\n",
    "model.add(Dropout(0.10))"
   ]
  },
  {
   "cell_type": "code",
   "execution_count": null,
   "metadata": {},
   "outputs": [],
   "source": [
    "# convert 2D images to 1D vector\n",
    "model.add(Flatten())\n",
    "# add to model 512 neurons\n",
    "model.add(Dense(256))\n",
    "# add relu activation function\n",
    "model.add(Activation('relu'))\n",
    "# randomly close 0.30 of neurons\n",
    "model.add(Dropout(0.3))\n",
    "model.add(Dense(6)) # num_classes = 6\n",
    "#add \"Softmax\" function to calculate the probability of classes\n",
    "model.add(Activation('softmax'))"
   ]
  },
  {
   "cell_type": "code",
   "execution_count": null,
   "metadata": {},
   "outputs": [],
   "source": [
    "opt = keras.optimizers.adam(lr=0.01, decay=1e-6)"
   ]
  },
  {
   "cell_type": "code",
   "execution_count": null,
   "metadata": {},
   "outputs": [],
   "source": [
    "early_stopping_monitor = EarlyStopping(patience=3)"
   ]
  },
  {
   "cell_type": "code",
   "execution_count": null,
   "metadata": {},
   "outputs": [],
   "source": [
    "model.compile(loss='binary_crossentropy', #binary crossentropy for 2 class problem (dog/cat)\n",
    "              optimizer='adam',\n",
    "              metrics=['accuracy'])"
   ]
  },
  {
   "cell_type": "code",
   "execution_count": null,
   "metadata": {},
   "outputs": [],
   "source": [
    "model.fit(X_train, y_train,\n",
    "              batch_size=128,\n",
    "              epochs=15,\n",
    "              validation_data=(X_test, y_test),\n",
    "              verbose=1,\n",
    "              shuffle=True,\n",
    "              )"
   ]
  },
  {
   "cell_type": "code",
   "execution_count": null,
   "metadata": {},
   "outputs": [],
   "source": [
    "scores = model.evaluate(X_test, y_test, verbose=1)\n",
    "print('Test loss:', scores[0])\n",
    "print('Test accuracy:', scores[1])"
   ]
  },
  {
   "cell_type": "code",
   "execution_count": null,
   "metadata": {},
   "outputs": [],
   "source": [
    "model.save(\"model.h5\")"
   ]
  },
  {
   "cell_type": "code",
   "execution_count": null,
   "metadata": {},
   "outputs": [],
   "source": [
    "import flask\n",
    "import keras.models\n",
    "from werkzeug.wrappers import Request, Response\n",
    "from flask import Flask\n",
    "from flask import request\n",
    "from keras.applications.imagenet_utils import decode_predictions"
   ]
  },
  {
   "cell_type": "code",
   "execution_count": null,
   "metadata": {},
   "outputs": [],
   "source": [
    "# used flask to use our model as a web service\n",
    "# the function returns class of the input image\n",
    "\n",
    "app = Flask(__name__)\n",
    "\n",
    "@app.route('/handle_request', methods=['GET', 'POST'])\n",
    "def handle_request():\n",
    "    \n",
    "    img = Image.open(\"path/image.jpg\")\n",
    "    loaded_model = keras.models.load_model('model.h5')\n",
    "    A = []\n",
    "    \n",
    "    I = np.array(img.getdata(),\n",
    "                np.uint8).reshape(49152 , 1)\n",
    "    A.append(I.reshape(1 , 49152))\n",
    "\n",
    "    A = np.array(A).reshape(np.array(A).shape[0], 3, 128, 128)\n",
    "    A = A/255\n",
    "\n",
    "    preds = loaded_model.predict(A)\n",
    "    y_classes = preds.argmax(axis=-1)\n",
    "\n",
    "    return str(lb.inverse_transform(y_classes[0]))\n",
    "    "
   ]
  },
  {
   "cell_type": "code",
   "execution_count": null,
   "metadata": {},
   "outputs": [],
   "source": [
    "if __name__ == '__main__':\n",
    "    from werkzeug.serving import run_simple\n",
    "    run_simple('localhost', 9000, app)"
   ]
  }
 ],
 "metadata": {
  "kernelspec": {
   "display_name": "Python 3",
   "language": "python",
   "name": "python3"
  },
  "language_info": {
   "codemirror_mode": {
    "name": "ipython",
    "version": 3
   },
   "file_extension": ".py",
   "mimetype": "text/x-python",
   "name": "python",
   "nbconvert_exporter": "python",
   "pygments_lexer": "ipython3",
   "version": "3.7.0"
  }
 },
 "nbformat": 4,
 "nbformat_minor": 2
}
