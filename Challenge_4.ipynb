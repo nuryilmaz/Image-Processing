{
 "cells": [
  {
   "cell_type": "code",
   "execution_count": 3,
   "metadata": {},
   "outputs": [],
   "source": [
    "\n",
    "import keras\n",
    "from keras.models import Sequential\n",
    "from keras.layers import Dense, Dropout, Activation, Flatten\n",
    "from keras.layers import Conv2D, MaxPooling2D\n",
    "from keras import backend as K\n",
    "from keras.callbacks import EarlyStopping\n",
    "from keras.preprocessing.image import ImageDataGenerator\n",
    "\n",
    "from sklearn.model_selection import train_test_split\n",
    "from sklearn.preprocessing import LabelEncoder\n",
    "\n",
    "from PIL import Image\n",
    "\n",
    "import numpy as np\n",
    "import os"
   ]
  },
  {
   "cell_type": "code",
   "execution_count": null,
   "metadata": {},
   "outputs": [],
   "source": [
    "import warnings\n",
    "warnings.filterwarnings('ignore')"
   ]
  },
  {
   "cell_type": "code",
   "execution_count": 5,
   "metadata": {},
   "outputs": [],
   "source": [
    "image_dir = os.getcwd() + '\\\\Train_data_resized\\\\'\n",
    "X = []\n",
    "y = []\n",
    "for image_path in os.listdir(os.fsencode(image_dir)):\n",
    "    for image in os.listdir(os.fsencode(image_dir + str(image_path).replace(\"b'\", '').replace(\"'\", ''))):\n",
    "        img_dir = os.fsencode(image_dir + str(image_path).replace(\"b'\", '').replace(\"'\", '') + '\\\\' + str(image).replace(\"b'\", '').replace(\"'\", ''))\n",
    "        img = Image.open(img_dir)\n",
    "        if img.size == (128,128):\n",
    "            I = np.array(img.getdata(),\n",
    "                        np.uint8).reshape(49152 , 1)\n",
    "\n",
    "            X.append(I.reshape(1 , 49152))\n",
    "            y.append(str(image_path).replace(\"b'\", '').replace(\"'\", ''))\n",
    "        \n",
    "        else:\n",
    "            break"
   ]
  },
  {
   "cell_type": "code",
   "execution_count": 6,
   "metadata": {},
   "outputs": [
    {
     "data": {
      "text/plain": [
       "71"
      ]
     },
     "execution_count": 6,
     "metadata": {},
     "output_type": "execute_result"
    }
   ],
   "source": [
    "np.array(X).shape[0]"
   ]
  },
  {
   "cell_type": "code",
   "execution_count": 7,
   "metadata": {},
   "outputs": [
    {
     "data": {
      "text/plain": [
       "'channels_last'"
      ]
     },
     "execution_count": 7,
     "metadata": {},
     "output_type": "execute_result"
    }
   ],
   "source": [
    "K.image_data_format() "
   ]
  },
  {
   "cell_type": "code",
   "execution_count": 8,
   "metadata": {},
   "outputs": [],
   "source": [
    " X = np.array(X).reshape(np.array(X).shape[0], 3, 128, 128)"
   ]
  },
  {
   "cell_type": "code",
   "execution_count": 9,
   "metadata": {},
   "outputs": [
    {
     "data": {
      "text/plain": [
       "\"if K.image_data_format() == 'channels_last':\\n        X = np.array(X).reshape(np.array(X).shape[0], 3, 128, 128)\\n        input_shape = (3, 128, 128)\\nelse:\\n        X = np.array(X).reshape(np.array(X).shape[0], 128, 128, 3)\\n        input_shape = (128, 128, 3)\\n\""
      ]
     },
     "execution_count": 9,
     "metadata": {},
     "output_type": "execute_result"
    }
   ],
   "source": [
    "\"\"\"if K.image_data_format() == 'channels_last':\n",
    "        X = np.array(X).reshape(np.array(X).shape[0], 3, 128, 128)\n",
    "        input_shape = (3, 128, 128)\n",
    "else:\n",
    "        X = np.array(X).reshape(np.array(X).shape[0], 128, 128, 3)\n",
    "        input_shape = (128, 128, 3)\n",
    "\"\"\""
   ]
  },
  {
   "cell_type": "code",
   "execution_count": 10,
   "metadata": {},
   "outputs": [],
   "source": [
    "X = X/255"
   ]
  },
  {
   "cell_type": "code",
   "execution_count": 11,
   "metadata": {},
   "outputs": [],
   "source": [
    "lb = LabelEncoder()\n",
    "\n",
    "y = lb.fit_transform(y)\n",
    "y = keras.utils.to_categorical(y,6) \n",
    "\n",
    "\n"
   ]
  },
  {
   "cell_type": "code",
   "execution_count": 12,
   "metadata": {},
   "outputs": [],
   "source": [
    "X_train, X_test, y_train, y_test = train_test_split(X, y, test_size=0.20, random_state=42)"
   ]
  },
  {
   "cell_type": "code",
   "execution_count": 13,
   "metadata": {},
   "outputs": [],
   "source": [
    "model = Sequential()"
   ]
  },
  {
   "cell_type": "code",
   "execution_count": 14,
   "metadata": {},
   "outputs": [
    {
     "name": "stdout",
     "output_type": "stream",
     "text": [
      "WARNING:tensorflow:From C:\\Users\\nur.yilmaz\\AppData\\Local\\Continuum\\anaconda3\\lib\\site-packages\\keras\\backend\\tensorflow_backend.py:4070: The name tf.nn.max_pool is deprecated. Please use tf.nn.max_pool2d instead.\n",
      "\n"
     ]
    }
   ],
   "source": [
    "model.add(Conv2D(64, (3, 3), padding='same',\n",
    "                 input_shape=X_train.shape[1:]))\n",
    "# add relu activation function\n",
    "model.add(Activation('relu'))\n",
    "\n",
    "model.add(Dropout(0.3))\n",
    "# add layer with 3x3 filters to model\n",
    "model.add(MaxPooling2D(pool_size=(3, 3), dim_ordering=\"th\"))\n",
    "# randomly close 0.10 of neurons to prevent overfitting during training\n",
    "model.add(Dropout(0.10))\n",
    "\n",
    "\n"
   ]
  },
  {
   "cell_type": "code",
   "execution_count": 15,
   "metadata": {},
   "outputs": [],
   "source": [
    "model.add(Conv2D(32, (3, 3), data_format='channels_first'))\n",
    "# add relu activation function\n",
    "model.add(Activation('relu'))\n",
    "\n",
    "model.add(Dropout(0.3))\n",
    "# add 2x2 MaxPooling layer \n",
    "model.add(MaxPooling2D(pool_size=(2, 2)))\n",
    "# randomly close 0.10 of neurons to prevent overfitting during training\n",
    "model.add(Dropout(0.10))"
   ]
  },
  {
   "cell_type": "code",
   "execution_count": 16,
   "metadata": {},
   "outputs": [],
   "source": [
    "# convert 2D images to 1D vector\n",
    "model.add(Flatten())\n",
    "# add to model 512 neurons\n",
    "model.add(Dense(256))\n",
    "# add relu activation function\n",
    "model.add(Activation('relu'))\n",
    "# randomly close 0.30 of neurons\n",
    "model.add(Dropout(0.3))\n",
    "\n",
    "model.add(Dense(6)) # num_classes = 6\n",
    "#add \"Softmax\" function to calculate the probability of classes\n",
    "model.add(Activation('softmax'))"
   ]
  },
  {
   "cell_type": "code",
   "execution_count": 17,
   "metadata": {},
   "outputs": [],
   "source": [
    "opt = keras.optimizers.adam(lr=0.01, decay=1e-6)"
   ]
  },
  {
   "cell_type": "code",
   "execution_count": 18,
   "metadata": {},
   "outputs": [],
   "source": [
    "early_stopping_monitor = EarlyStopping(patience=3)"
   ]
  },
  {
   "cell_type": "code",
   "execution_count": 19,
   "metadata": {},
   "outputs": [],
   "source": [
    "model.compile(loss='binary_crossentropy',\n",
    "              optimizer='adam',\n",
    "              metrics=['accuracy'])"
   ]
  },
  {
   "cell_type": "code",
   "execution_count": null,
   "metadata": {},
   "outputs": [],
   "source": [
    "model.fit(X_train, y_train,\n",
    "              batch_size=128,\n",
    "              epochs=15,\n",
    "              validation_data=(X_test, y_test),\n",
    "              verbose=1,\n",
    "              shuffle=True,\n",
    "              )"
   ]
  },
  {
   "cell_type": "code",
   "execution_count": 21,
   "metadata": {},
   "outputs": [
    {
     "name": "stdout",
     "output_type": "stream",
     "text": [
      "15/15 [==============================] - 0s 3ms/step\n",
      "Test loss: 0.44837743043899536\n",
      "Test accuracy: 0.8333333134651184\n"
     ]
    }
   ],
   "source": [
    "scores = model.evaluate(X_test, y_test, verbose=1)\n",
    "print('Test loss:', scores[0])\n",
    "print('Test accuracy:', scores[1])"
   ]
  },
  {
   "cell_type": "code",
   "execution_count": 22,
   "metadata": {},
   "outputs": [],
   "source": [
    "model.save(\"model.h5\")"
   ]
  },
  {
   "cell_type": "code",
   "execution_count": 23,
   "metadata": {},
   "outputs": [],
   "source": [
    "import glob\n",
    "from PIL import ImageOps\n",
    "from PIL import Image\n",
    "import numpy as np\n",
    "\n",
    "img_dir = glob.glob('C://Users//**//Desktop//**//ImageCrawler - Deploy//Test_Data//*')\n",
    "  \n",
    "for file in img_dir :\n",
    "    for image_dir in glob.glob(file + \"//*\"): \n",
    "        \n",
    "        img = Image.open(image_dir)\n",
    "        new_path = image_dir.replace('Test_Data', 'Test_Data_resized').replace('\\\\', '//')\n",
    "        \n",
    "        # Create each image from related directory via Image\n",
    "        \n",
    "        # Convert to RGB\n",
    "        img = img.convert('RGB')\n",
    "        # Resize image to the biggest dimension by making aspect ratio 1:1\n",
    "        old_size = img.size\n",
    "        max_size =  np.max(list(old_size))\n",
    "        new_size = (max_size, max_size)\n",
    "        # Create a canvas with white background, insert considered image to its center\n",
    "        new_im = Image.new(\"RGB\", new_size, 'white')\n",
    "        new_im.paste(img, (int((new_size[0]-old_size[0])/2),\n",
    "                      int((new_size[1]-old_size[1])/2)))\n",
    "        # Autocontrast the image.\n",
    "        auto_img = ImageOps.autocontrast(new_im)\n",
    "        auto_img.thumbnail((128, 128))\n",
    "        \n",
    "        # Save the image to new path.\n",
    "        auto_img.save(new_path)\n",
    "        "
   ]
  },
  {
   "cell_type": "code",
   "execution_count": 24,
   "metadata": {},
   "outputs": [],
   "source": [
    "import flask\n",
    "\n",
    "import keras.models\n",
    "\n",
    "from werkzeug.wrappers import Request, Response\n",
    "from flask import Flask\n",
    "from flask import request\n",
    "\n",
    "from keras.applications.imagenet_utils import decode_predictions\n"
   ]
  },
  {
   "cell_type": "code",
   "execution_count": 25,
   "metadata": {},
   "outputs": [],
   "source": [
    "app = Flask(__name__)\n",
    "\n",
    "@app.route('/handle_request', methods=['GET', 'POST'])\n",
    "def handle_request():\n",
    "    \n",
    "    \n",
    "    img = request.args.get('path')\n",
    "    \n",
    "    img = Image.open(img)\n",
    "    loaded_model = keras.models.load_model('model.h5')\n",
    "    A = []\n",
    "    \n",
    "    I = np.array(img.getdata(),\n",
    "                np.uint8).reshape(49152 , 1)\n",
    "    A.append(I.reshape(1 , 49152))\n",
    "\n",
    "    A = np.array(A).reshape(np.array(A).shape[0], 3, 128, 128)\n",
    "    A = A/255\n",
    "\n",
    "    preds = loaded_model.predict(A)\n",
    "    \n",
    "     \n",
    "    y_classes = preds.argmax(axis=-1)\n",
    "    \n",
    "   \n",
    "    \n",
    "    return str(lb.inverse_transform(y_classes[0]))\n",
    "    \n",
    "    \n",
    "    \n",
    "\n",
    "  \n"
   ]
  },
  {
   "cell_type": "code",
   "execution_count": null,
   "metadata": {},
   "outputs": [
    {
     "name": "stderr",
     "output_type": "stream",
     "text": [
      " * Running on http://localhost:9000/ (Press CTRL+C to quit)\n"
     ]
    }
   ],
   "source": [
    "if __name__ == '__main__':\n",
    "    from werkzeug.serving import run_simple\n",
    "    run_simple('localhost', 9000, app)"
   ]
  },
  {
   "cell_type": "code",
   "execution_count": null,
   "metadata": {},
   "outputs": [],
   "source": []
  }
 ],
 "metadata": {
  "kernelspec": {
   "display_name": "Python 3",
   "language": "python",
   "name": "python3"
  },
  "language_info": {
   "codemirror_mode": {
    "name": "ipython",
    "version": 3
   },
   "file_extension": ".py",
   "mimetype": "text/x-python",
   "name": "python",
   "nbconvert_exporter": "python",
   "pygments_lexer": "ipython3",
   "version": "3.7.0"
  }
 },
 "nbformat": 4,
 "nbformat_minor": 2
}
