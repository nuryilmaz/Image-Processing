{
 "cells": [
  {
   "cell_type": "code",
   "execution_count": 1,
   "metadata": {},
   "outputs": [],
   "source": [
    "import numpy as np\n",
    "from PIL import Image\n",
    "import PIL\n",
    "from PIL import ImageOps\n",
    "import glob\n",
    "import pylab as plt\n",
    "import os"
   ]
  },
  {
   "cell_type": "code",
   "execution_count": 3,
   "metadata": {},
   "outputs": [],
   "source": [
    "img_dir = glob.glob('C://Users//Desktop//ImageCrawler//Train_Data//*')\n",
    "  \n",
    "for file in img_dir :\n",
    "    for image_dir in glob.glob(file + \"//*\"): \n",
    "        \n",
    "        img = Image.open(image_dir)\n",
    "        new_path = image_dir.replace('Train_Data', 'Train_Data_resized').replace('\\\\', '//')\n",
    "        \n",
    "        # Create each image from related directory via Image\n",
    "        \n",
    "        # Convert to RGB\n",
    "        img = img.convert('RGB')\n",
    "        # Resize image to the biggest dimension by making aspect ratio 1:1\n",
    "        old_size = img.size\n",
    "        max_size =  np.max(list(old_size))\n",
    "        new_size = (max_size, max_size)\n",
    "        # Create a canvas with white background, insert considered image to its center\n",
    "        new_im = Image.new(\"RGB\", new_size, 'white')\n",
    "        new_im.paste(img, (int((new_size[0]-old_size[0])/2),\n",
    "                      int((new_size[1]-old_size[1])/2)))\n",
    "        # Autocontrast the image.\n",
    "        auto_img = ImageOps.autocontrast(new_im)\n",
    "        auto_img.thumbnail((128, 128))\n",
    "        \n",
    "        # Save the image to new path.\n",
    "        auto_img.save(new_path)\n",
    "        \n",
    "            "
   ]
  },
  {
   "cell_type": "markdown",
   "metadata": {},
   "source": [
    "image_dir = os.getcwd() + '\\\\Train_Data_resized\\\\'\n",
    "\n",
    "for image_path in os.listdir(os.fsencode(image_dir)):\n",
    "    for image in os.listdir(os.fsencode(image_dir + str(image_path).replace(\"b'\", '').replace(\"'\", ''))):\n",
    "        img_dir = os.fsencode(image_dir + str(image_path).replace(\"b'\", '').replace(\"'\", '') + '\\\\' + str(image).replace(\"b'\", '').replace(\"'\", ''))\n",
    "        \n",
    "        img = Image.open(img_dir)\n",
    "        \n",
    "        \n",
    "        path_parts = str(str(img_dir).replace('Train_Data', 'Train_Data_resized').replace(\"b'\", '')).split('.')\n",
    "        \n",
    "        new_path = path_parts[0] + '.' + path_parts[1] + '.jpg'\n",
    "         \n",
    "        img = img.convert('RGB')\n",
    "        old_size = img.size\n",
    "        max_size =  np.max(list(old_size))\n",
    "        new_size = (max_size, max_size)\n",
    "        new_im = Image.new(\"RGB\", new_size, 'white')\n",
    "        new_im.paste(img, (int((new_size[0]-old_size[0])/2),\n",
    "                      int((new_size[1]-old_size[1])/2)))\n",
    "        auto_img = ImageOps.autocontrast(new_im)\n",
    "        auto_img.thumbnail((128, 128))\n",
    "        auto_img.save(new_path)"
   ]
  }
 ],
 "metadata": {
  "kernelspec": {
   "display_name": "Python 3",
   "language": "python",
   "name": "python3"
  },
  "language_info": {
   "codemirror_mode": {
    "name": "ipython",
    "version": 3
   },
   "file_extension": ".py",
   "mimetype": "text/x-python",
   "name": "python",
   "nbconvert_exporter": "python",
   "pygments_lexer": "ipython3",
   "version": "3.7.0"
  }
 },
 "nbformat": 4,
 "nbformat_minor": 2
}
